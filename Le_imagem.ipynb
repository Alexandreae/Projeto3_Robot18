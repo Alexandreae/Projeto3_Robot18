{
 "cells": [
  {
   "cell_type": "code",
   "execution_count": 1,
   "metadata": {},
   "outputs": [],
   "source": [
    "%matplotlib inline\n",
    "import cv2\n",
    "import PIL.ImageGrab\n",
    "from matplotlib import pyplot as plt\n",
    "import time as t\n",
    "from PIL import Image\n",
    "from pytesseract import image_to_string\n",
    "import numpy as np"
   ]
  },
  {
   "cell_type": "code",
   "execution_count": 2,
   "metadata": {},
   "outputs": [],
   "source": [
    "# TIRA O PRINT\n",
    "t.sleep(3)\n",
    "im =PIL.ImageGrab.grab()\n",
    "im.show()"
   ]
  },
  {
   "cell_type": "code",
   "execution_count": 3,
   "metadata": {},
   "outputs": [],
   "source": [
    "im=Image.open(\"print.jpg\")"
   ]
  },
  {
   "cell_type": "code",
   "execution_count": 4,
   "metadata": {},
   "outputs": [],
   "source": [
    "# SEPARA O QUADRADO\n",
    "im2 = im.crop((709, 467, 1194, 952))\n",
    "dx=121\n",
    "dy=121"
   ]
  },
  {
   "cell_type": "code",
   "execution_count": 5,
   "metadata": {},
   "outputs": [],
   "source": [
    "# SEPARA OS 16 QUADADROS\n",
    "quadrados=[]\n",
    "for j in range(1,5):\n",
    "    for i in range(1,5):\n",
    "        quadrado=im2.crop((1+(i-1)*dx,1+(j-1)*dy,i*dx,j*dy))\n",
    "        quadrado=np.array(quadrado)\n",
    "        quadrados.append(quadrado)"
   ]
  },
  {
   "cell_type": "code",
   "execution_count": 6,
   "metadata": {},
   "outputs": [],
   "source": [
    "#plt.imshow(quadrados[0])\n",
    "#print(\"Vazio\")\n",
    "#print(quadrados[0][10,10])\n",
    "#print(\"dois\")\n",
    "#print(quadrados[4][10,10])\n",
    "#print(\"quatro\")\n",
    "#print(quadrados[5][10,10])\n",
    "#print(\"oito\")\n",
    "#print(quadrados[9][10,10])"
   ]
  },
  {
   "cell_type": "code",
   "execution_count": 7,
   "metadata": {},
   "outputs": [],
   "source": [
    "# LISTA QUE SALVA O VALOR DE CADA QUADRADO\n",
    "q=[]\n",
    "for i in range(len(quadrados)):\n",
    "    i=1\n",
    "    q.append(i)"
   ]
  },
  {
   "cell_type": "code",
   "execution_count": 8,
   "metadata": {},
   "outputs": [],
   "source": [
    "def comparador(pixel1,pixel2):\n",
    "    resposta=[]\n",
    "    resposta.append(np.isclose(pixel1[0],pixel2[0],rtol=0.05))\n",
    "    resposta.append(np.isclose(pixel1[1],pixel2[1],rtol=0.05))\n",
    "    resposta.append(np.isclose(pixel1[2],pixel2[2],rtol=0.05))\n",
    "    true=[True,True,True]\n",
    "    if resposta==true:\n",
    "        return True\n",
    "    else:\n",
    "        return False"
   ]
  },
  {
   "cell_type": "code",
   "execution_count": 10,
   "metadata": {},
   "outputs": [
    {
     "data": {
      "text/plain": [
       "[0, 0, 0, 0, 2, 4, 4, 0, 2, 8, 2, 0, 8, 1, 1, 8]"
      ]
     },
     "execution_count": 10,
     "metadata": {},
     "output_type": "execute_result"
    }
   ],
   "source": [
    "# LÊ POR COR\n",
    "vazio=[205,192,180]\n",
    "dois=[238,228,218]\n",
    "quatro=[237,224,200]\n",
    "oito=[242,177,121]\n",
    "for i in range(len(quadrados)):\n",
    "    if comparador(quadrados[i][10,10],vazio):\n",
    "        q[i]=0\n",
    "    elif  comparador(quadrados[i][10,10],dois):\n",
    "        q[i]=2\n",
    "    elif comparador(quadrados[i][10,10],quatro):\n",
    "        q[i]=4\n",
    "    elif  comparador(quadrados[i][10,10],oito):\n",
    "        q[i]=8\n",
    "q"
   ]
  },
  {
   "cell_type": "code",
   "execution_count": 12,
   "metadata": {},
   "outputs": [],
   "source": [
    "# PINTA OS QUADRADOS\n",
    "for a in range(len(quadrados)):\n",
    "    if q[a]==1:\n",
    "        quadrado=np.array(quadrados[a])\n",
    "        fundo=[]\n",
    "        for i in quadrado[10,10]:\n",
    "            fundo.append(i)\n",
    "        for i in range(7,114):\n",
    "            for j in range(7,114):\n",
    "                if comparador(quadrados[a][i,j],fundo):\n",
    "                    quadrados[a][i,j]=[255,255,255]\n",
    "                else:\n",
    "                    quadrados[a][i,j]=[0,0,0]"
   ]
  },
  {
   "cell_type": "code",
   "execution_count": 13,
   "metadata": {},
   "outputs": [],
   "source": [
    "# LÊ POR PYTESSERACT\n",
    "for i in range(len(quadrados)):\n",
    "    if q[i]==1:\n",
    "        q[i]=int(image_to_string(quadrados[i]))"
   ]
  },
  {
   "cell_type": "code",
   "execution_count": 14,
   "metadata": {
    "scrolled": true
   },
   "outputs": [
    {
     "data": {
      "text/plain": [
       "[0, 0, 0, 0, 2, 4, 4, 0, 2, 8, 2, 0, 8, 16, 32, 8]"
      ]
     },
     "execution_count": 14,
     "metadata": {},
     "output_type": "execute_result"
    }
   ],
   "source": [
    "q"
   ]
  }
 ],
 "metadata": {
  "kernelspec": {
   "display_name": "Python 3",
   "language": "python",
   "name": "python3"
  },
  "language_info": {
   "codemirror_mode": {
    "name": "ipython",
    "version": 3
   },
   "file_extension": ".py",
   "mimetype": "text/x-python",
   "name": "python",
   "nbconvert_exporter": "python",
   "pygments_lexer": "ipython3",
   "version": "3.6.4"
  }
 },
 "nbformat": 4,
 "nbformat_minor": 2
}
